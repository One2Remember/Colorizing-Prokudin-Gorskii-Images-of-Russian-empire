{
 "cells": [
  {
   "cell_type": "markdown",
   "metadata": {},
   "source": [
    "# MP 1\n",
    "### Emmanuel Gallegos\n",
    "### CS 543: Computer Vision\n",
    "### Prof. Svetlana Lazebnik\n",
    "### University of Illinois Urbana Champaign"
   ]
  },
  {
   "cell_type": "code",
   "execution_count": 3,
   "metadata": {},
   "outputs": [],
   "source": [
    "import time\n",
    "import os\n",
    "import cv2\n",
    "import numpy as np\n",
    "from PIL import Image\n",
    "from matplotlib import pyplot as plt"
   ]
  },
  {
   "cell_type": "code",
   "execution_count": 21,
   "metadata": {},
   "outputs": [],
   "source": [
    "# useful constants\n",
    "UP=0\n",
    "RIGHT=1\n",
    "DOWN=2\n",
    "LEFT=3\n",
    "\n",
    "BLUE=0\n",
    "GREEN=1\n",
    "RED=2\n",
    "\n",
    "COLOR_1 = RED\n",
    "COLOR_2 = GREEN\n",
    "COLOR_DEF = BLUE"
   ]
  },
  {
   "cell_type": "code",
   "execution_count": 22,
   "metadata": {},
   "outputs": [],
   "source": [
    "# roll a 2d image in a given direction (0->up, 1->right, 2->down, 3->left)\n",
    "def roll_image(image, direction, n_pixels):\n",
    "    if direction == UP:\n",
    "        return np.roll(image, -n_pixels, axis=1)\n",
    "    elif direction == DOWN:\n",
    "        return np.roll(image, n_pixels, axis=1)\n",
    "    elif direction == RIGHT:\n",
    "        return np.roll(image, n_pixels, axis=0)\n",
    "    elif direction == LEFT:\n",
    "        return np.roll(image, -n_pixels, axis=0)"
   ]
  },
  {
   "cell_type": "code",
   "execution_count": 49,
   "metadata": {},
   "outputs": [
    {
     "name": "stdout",
     "output_type": "stream",
     "text": [
      "['D:\\\\HDD_Documents\\\\UIUC\\\\Fall_2022\\\\CV\\\\MP1\\\\data\\\\00125v.jpg', 'D:\\\\HDD_Documents\\\\UIUC\\\\Fall_2022\\\\CV\\\\MP1\\\\data\\\\00149v.jpg', 'D:\\\\HDD_Documents\\\\UIUC\\\\Fall_2022\\\\CV\\\\MP1\\\\data\\\\00153v.jpg', 'D:\\\\HDD_Documents\\\\UIUC\\\\Fall_2022\\\\CV\\\\MP1\\\\data\\\\00351v.jpg', 'D:\\\\HDD_Documents\\\\UIUC\\\\Fall_2022\\\\CV\\\\MP1\\\\data\\\\00398v.jpg', 'D:\\\\HDD_Documents\\\\UIUC\\\\Fall_2022\\\\CV\\\\MP1\\\\data\\\\01112v.jpg']\n",
      "['D:\\\\HDD_Documents\\\\UIUC\\\\Fall_2022\\\\CV\\\\MP1\\\\data_hires\\\\01047u.tif', 'D:\\\\HDD_Documents\\\\UIUC\\\\Fall_2022\\\\CV\\\\MP1\\\\data_hires\\\\01657u.tif', 'D:\\\\HDD_Documents\\\\UIUC\\\\Fall_2022\\\\CV\\\\MP1\\\\data_hires\\\\01861a.tif']\n",
      "['D:\\\\HDD_Documents\\\\UIUC\\\\Fall_2022\\\\CV\\\\MP1\\\\data\\\\..\\\\basic_colorized\\\\00125v.jpg', 'D:\\\\HDD_Documents\\\\UIUC\\\\Fall_2022\\\\CV\\\\MP1\\\\data\\\\..\\\\basic_colorized\\\\00149v.jpg', 'D:\\\\HDD_Documents\\\\UIUC\\\\Fall_2022\\\\CV\\\\MP1\\\\data\\\\..\\\\basic_colorized\\\\00153v.jpg', 'D:\\\\HDD_Documents\\\\UIUC\\\\Fall_2022\\\\CV\\\\MP1\\\\data\\\\..\\\\basic_colorized\\\\00351v.jpg', 'D:\\\\HDD_Documents\\\\UIUC\\\\Fall_2022\\\\CV\\\\MP1\\\\data\\\\..\\\\basic_colorized\\\\00398v.jpg', 'D:\\\\HDD_Documents\\\\UIUC\\\\Fall_2022\\\\CV\\\\MP1\\\\data\\\\..\\\\basic_colorized\\\\01112v.jpg']\n"
     ]
    }
   ],
   "source": [
    "# set image paths\n",
    "basic_img_dir = os.path.join(os.getcwd(), \"data\")\n",
    "hires_img_dir = os.path.join(os.getcwd(), \"data_hires\")\n",
    "basic_img_paths = [os.path.join(basic_img_dir, img_path) for img_path in os.listdir(basic_img_dir)]\n",
    "hires_img_paths = [os.path.join(hires_img_dir, img_path) for img_path in os.listdir(hires_img_dir)]\n",
    "# make directory for colorized photos\n",
    "basic_colorized_dir = os.path.join(basic_img_dir, \"..\", \"basic_colorized\")\n",
    "os.mkdir(basic_colorized_dir)\n",
    "basic_colorized_paths = [os.path.join(basic_colorized_dir, img_path) for img_path in os.listdir(basic_img_dir)]\n",
    "#hires_colorized_paths = [os.path.join(hires_img_dir, img_path) for img_path in os.listdir(hires_img_dir)]\n",
    "print(basic_img_paths)\n",
    "print(hires_img_paths)\n",
    "print(basic_colorized_paths)"
   ]
  },
  {
   "cell_type": "code",
   "execution_count": 50,
   "metadata": {
    "scrolled": true
   },
   "outputs": [
    {
     "name": "stdout",
     "output_type": "stream",
     "text": [
      "best color 1 displacement: (12, -2)\n",
      "best color 2 displacement: (8, -1)\n",
      "best color 1 displacement: (11, 1)\n",
      "best color 2 displacement: (5, 1)\n",
      "best color 1 displacement: (13, 3)\n",
      "best color 2 displacement: (2, 2)\n",
      "best color 1 displacement: (15, -1)\n",
      "best color 2 displacement: (5, 0)\n",
      "best color 1 displacement: (11, -2)\n",
      "best color 2 displacement: (7, -1)\n",
      "best color 1 displacement: (10, 3)\n",
      "best color 2 displacement: (0, 1)\n"
     ]
    }
   ],
   "source": [
    "for n in range (0,len(basic_img_paths)): \n",
    "    # open image\n",
    "    image = Image.open(basic_img_paths[n])\n",
    "    grayscale_img = image.convert(\"L\")\n",
    "    # image to numpy array\n",
    "    np_img = np.array(image)\n",
    "    # ensure n_rows is multiple of 3\n",
    "    while np_img.shape[0] % 3 != 0:\n",
    "        np_img = np.pad(np_img, ((0,1),(0,0)), mode='constant', constant_values=255)\n",
    "    # get 3 channel images\n",
    "    bgr_channels = np.array(np.array_split(np_img, 3))\n",
    "    # pad the images with 15 rows/cols of 255\n",
    "    padded_channels = np.pad(bgr_channels,((0,0),(15,15),(15,15)), mode='constant', constant_values=255)\n",
    "    # save shape of channel\n",
    "    original_shape = padded_channels.shape\n",
    "    # unroll the channels to 1d arrays\n",
    "    unrolled_channels = padded_channels.reshape(3,-1)\n",
    "    # get channel means\n",
    "    means = np.mean(unrolled_channels, axis=1).reshape(-1,1)\n",
    "    # subtract channel means to get mean 0 channels\n",
    "    mean_0_channels = unrolled_channels - means\n",
    "    # get channel norms\n",
    "    norms = np.linalg.norm(mean_0_channels, axis=1).reshape(-1,1)\n",
    "    # normalize channels\n",
    "    norm_channels = mean_0_channels / norms  \n",
    "  \n",
    "    # fit alignment of color1 and color2 channels to default color channel through exhaustive search\n",
    "    best_col_1_val, best_col_2_val = 0, 0\n",
    "    best_col_1_disp = (0,0)\n",
    "    best_col_2_disp = (0,0)\n",
    "    \n",
    "    # reshape normalized arrays to original shape\n",
    "    norm_channels = norm_channels.reshape(original_shape)\n",
    "    \n",
    "    # roll color1 and color2 images up and to the left by 15 pixels\n",
    "    norm_channels[COLOR_1] = roll_image(norm_channels[COLOR_1], UP, 15)\n",
    "    norm_channels[COLOR_2] = roll_image(norm_channels[COLOR_2], UP, 15)\n",
    "    norm_channels[COLOR_1] = roll_image(norm_channels[COLOR_1], LEFT, 15)\n",
    "    norm_channels[COLOR_2] = roll_image(norm_channels[COLOR_2], LEFT, 15)\n",
    "    # exhaustively search for best alignment\n",
    "    # iterate over columns\n",
    "    for i in range(-15, 16):\n",
    "        # iterate over rows\n",
    "        for j in range(-15, 16):\n",
    "            # unroll\n",
    "            norm_channels = norm_channels.reshape(3,-1)\n",
    "            # check color1's fit to color default\n",
    "            color_1_fit = np.dot(norm_channels[COLOR_1], norm_channels[COLOR_DEF])\n",
    "            # check color2's fit to color default\n",
    "            color_2_fit = np.dot(norm_channels[COLOR_DEF], norm_channels[COLOR_2])\n",
    "            # reroll\n",
    "            norm_channels = norm_channels.reshape(original_shape)     \n",
    "            # update best displacements if needed\n",
    "            if(color_1_fit > best_col_1_val):\n",
    "                best_col_1_val = color_1_fit\n",
    "                best_col_1_disp = (i,j)\n",
    "            if(color_2_fit > best_col_2_val):\n",
    "                best_col_2_val = color_2_fit\n",
    "                best_col_2_disp = (i,j)\n",
    "            # roll color1 and color2 images down 1 pixel\n",
    "            norm_channels[COLOR_1] = roll_image(norm_channels[COLOR_1], DOWN, 1)\n",
    "            norm_channels[COLOR_2] = roll_image(norm_channels[COLOR_2], DOWN, 1)\n",
    "        # roll color1 and color2 images up by 31 pixels\n",
    "        norm_channels[COLOR_1] = roll_image(norm_channels[COLOR_1], UP, 31)\n",
    "        norm_channels[COLOR_2] = roll_image(norm_channels[COLOR_2], UP, 31)\n",
    "        # roll color1 and color2 images to right by 1 pixel\n",
    "        norm_channels[COLOR_1] = roll_image(norm_channels[COLOR_1], RIGHT, 1)\n",
    "        norm_channels[COLOR_2] = roll_image(norm_channels[COLOR_2], RIGHT, 1)           \n",
    "    \n",
    "    # print displacement\n",
    "    print(\"best color 1 displacement: \" + str(best_col_1_disp))\n",
    "    print(\"best color 2 displacement: \" + str(best_col_2_disp))\n",
    "    \n",
    "    # roll original color 1 and color 2 images to optimal displacements\n",
    "    padded_channels[COLOR_1] = roll_image(padded_channels[COLOR_1], RIGHT, best_col_1_disp[0])\n",
    "    padded_channels[COLOR_1] = roll_image(padded_channels[COLOR_1], DOWN, best_col_1_disp[1])\n",
    "    padded_channels[COLOR_2] = roll_image(padded_channels[COLOR_2], RIGHT, best_col_2_disp[0])\n",
    "    padded_channels[COLOR_2] = roll_image(padded_channels[COLOR_2], DOWN, best_col_2_disp[1])\n",
    "    \n",
    "    # change stride to (r,c,3)\n",
    "    bgr_image = padded_channels.transpose(1,2,0)\n",
    "    # flip channels to rgb channels\n",
    "    rgb_image = np.flip(bgr_image, axis=-1)\n",
    "    \n",
    "    # save image\n",
    "    im = Image.fromarray(rgb_image)\n",
    "    im.save(basic_colorized_paths[n])"
   ]
  },
  {
   "cell_type": "code",
   "execution_count": null,
   "metadata": {},
   "outputs": [],
   "source": []
  }
 ],
 "metadata": {
  "kernelspec": {
   "display_name": "Python 3",
   "language": "python",
   "name": "python3"
  },
  "language_info": {
   "codemirror_mode": {
    "name": "ipython",
    "version": 3
   },
   "file_extension": ".py",
   "mimetype": "text/x-python",
   "name": "python",
   "nbconvert_exporter": "python",
   "pygments_lexer": "ipython3",
   "version": "3.8.5"
  }
 },
 "nbformat": 4,
 "nbformat_minor": 4
}
