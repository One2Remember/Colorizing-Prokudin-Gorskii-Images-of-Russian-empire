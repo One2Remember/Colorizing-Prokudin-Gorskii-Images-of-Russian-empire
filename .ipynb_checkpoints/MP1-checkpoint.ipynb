{
 "cells": [
  {
   "cell_type": "markdown",
   "metadata": {},
   "source": [
    "# MP 1\n",
    "### Emmanuel Gallegos\n",
    "### CS 543: Computer Vision\n",
    "### Prof. Svetlana Lazebnik\n",
    "### University of Illinois Urbana Champaign"
   ]
  },
  {
   "cell_type": "code",
   "execution_count": 1,
   "metadata": {},
   "outputs": [],
   "source": [
    "import time\n",
    "import os\n",
    "import cv2\n",
    "import numpy as np\n",
    "from PIL import Image\n",
    "from matplotlib import pyplot as plt"
   ]
  },
  {
   "cell_type": "code",
   "execution_count": 2,
   "metadata": {},
   "outputs": [
    {
     "ename": "NameError",
     "evalue": "name 'BLUE' is not defined",
     "output_type": "error",
     "traceback": [
      "\u001b[1;31m---------------------------------------------------------------------------\u001b[0m",
      "\u001b[1;31mNameError\u001b[0m                                 Traceback (most recent call last)",
      "\u001b[1;32m<ipython-input-2-c444c0fde75d>\u001b[0m in \u001b[0;36m<module>\u001b[1;34m\u001b[0m\n\u001b[0;32m      5\u001b[0m \u001b[0mLEFT\u001b[0m\u001b[1;33m=\u001b[0m\u001b[1;36m3\u001b[0m\u001b[1;33m\u001b[0m\u001b[1;33m\u001b[0m\u001b[0m\n\u001b[0;32m      6\u001b[0m \u001b[1;33m\u001b[0m\u001b[0m\n\u001b[1;32m----> 7\u001b[1;33m \u001b[0mCOLOR_1\u001b[0m \u001b[1;33m=\u001b[0m \u001b[0mBLUE\u001b[0m\u001b[1;33m\u001b[0m\u001b[1;33m\u001b[0m\u001b[0m\n\u001b[0m\u001b[0;32m      8\u001b[0m \u001b[0mCOLOR_2\u001b[0m \u001b[1;33m=\u001b[0m \u001b[0mRED\u001b[0m\u001b[1;33m\u001b[0m\u001b[1;33m\u001b[0m\u001b[0m\n\u001b[0;32m      9\u001b[0m \u001b[0mCOLOR_DEF\u001b[0m \u001b[1;33m=\u001b[0m \u001b[0mGREEN\u001b[0m\u001b[1;33m\u001b[0m\u001b[1;33m\u001b[0m\u001b[0m\n",
      "\u001b[1;31mNameError\u001b[0m: name 'BLUE' is not defined"
     ]
    }
   ],
   "source": [
    "# useful constants\n",
    "UP=0\n",
    "RIGHT=1\n",
    "DOWN=2\n",
    "LEFT=3\n",
    "\n",
    "BLUE=0\n",
    "GREEN=1\n",
    "RED=2\n",
    "\n",
    "COLOR_1 = BLUE\n",
    "COLOR_2 = RED\n",
    "COLOR_DEF = GREEN"
   ]
  },
  {
   "cell_type": "code",
   "execution_count": null,
   "metadata": {},
   "outputs": [],
   "source": [
    "# roll a 2d image in a given direction (0->up, 1->right, 2->down, 3->left)\n",
    "def roll_image(image, direction, n_pixels):\n",
    "    if direction == UP:\n",
    "        return np.roll(image, -n_pixels, axis=1)\n",
    "    elif direction == DOWN:\n",
    "        return np.roll(image, n_pixels, axis=1)\n",
    "    elif direction == RIGHT:\n",
    "        return np.roll(image, n_pixels, axis=0)\n",
    "    elif direction == LEFT:\n",
    "        return np.roll(image, -n_pixels, axis=0)"
   ]
  },
  {
   "cell_type": "code",
   "execution_count": null,
   "metadata": {},
   "outputs": [],
   "source": [
    "# set image paths\n",
    "basic_img_dir = os.path.join(os.getcwd(), \"data\")\n",
    "hires_img_dir = os.path.join(os.getcwd(), \"data_hires\")\n",
    "basic_img_paths = [os.path.join(basic_img_dir, img_path) for img_path in os.listdir(basic_img_dir)]\n",
    "print(basic_img_paths)"
   ]
  },
  {
   "cell_type": "code",
   "execution_count": null,
   "metadata": {},
   "outputs": [],
   "source": [
    "for img_path in basic_img_paths: \n",
    "    # open image\n",
    "    image = Image.open(img_path)\n",
    "    grayscale_img = image.convert(\"L\")\n",
    "    # image to numpy array\n",
    "    np_img = np.array(image)\n",
    "    # ensure n_rows is multiple of 3\n",
    "    while np_img.shape[0] % 3 != 0:\n",
    "        np_img = np.pad(np_img, ((0,1),(0,0)), mode='constant', constant_values=255)\n",
    "    # get 3 channel images\n",
    "    bgr_channels = np.array(np.array_split(np_img, 3))\n",
    "    # pad the images with 15 rows/cols of 255\n",
    "    padded_channels = np.pad(bgr_channels,((0,0),(15,15),(15,15)), mode='constant', constant_values=255)\n",
    "    # save shape of channel\n",
    "    original_shape = padded_channels.shape\n",
    "    # unroll the channels to 1d arrays\n",
    "    unrolled_channels = padded_channels.reshape(3,-1)\n",
    "    # get channel means\n",
    "    means = np.mean(unrolled_channels, axis=1).reshape(-1,1)\n",
    "    # subtract channel means to get mean 0 channels\n",
    "    mean_0_channels = unrolled_channels - means\n",
    "    # get channel norms\n",
    "    norms = np.linalg.norm(mean_0_channels, axis=1).reshape(-1,1)\n",
    "    # normalize channels\n",
    "    norm_channels = mean_0_channels / norms  \n",
    "  \n",
    "    # fit alignment of color1 and color2 channels to default color channel through exhaustive search\n",
    "    best_col_1_val, best_col_2_val = 0, 0\n",
    "    best_col_1_disp = (0,0)\n",
    "    best_col_2_disp = (0,0)\n",
    "    \n",
    "    # reshape normalized arrays to original shape\n",
    "    norm_channels = norm_channels.reshape(original_shape)\n",
    "    \n",
    "    # roll color1 and color2 images up and to the left by 15 pixels\n",
    "    norm_channels[COLOR_1] = roll_image(norm_channels[COLOR_1], UP, 15)\n",
    "    norm_channels[COLOR_2] = roll_image(norm_channels[COLOR_2], UP, 15)\n",
    "    norm_channels[COLOR_1] = roll_image(norm_channels[COLOR_1], LEFT, 15)\n",
    "    norm_channels[COLOR_2] = roll_image(norm_channels[COLOR_2], LEFT, 15)\n",
    "    # exhaustively search for best alignment\n",
    "    # iterate over columns\n",
    "    for i in range(-15, 16):\n",
    "        # iterate over rows\n",
    "        for j in range(-15, 16):\n",
    "            # unroll\n",
    "            norm_channels = norm_channels.reshape(3,-1)\n",
    "            # check color1's fit to color default\n",
    "            color_1_fit = np.dot(norm_channels[COLOR_1], norm_channels[COLOR_DEF])\n",
    "            # check color2's fit to color default\n",
    "            color_2_fit = np.dot(norm_channels[GREEN], norm_channels[COLOR_2])\n",
    "            # reroll\n",
    "            norm_channels = norm_channels.reshape(original_shape)     \n",
    "            # update best displacements if needed\n",
    "            if(color_1_fit > best_col_1_val):\n",
    "                best_col_1_val = color_1_fit\n",
    "                best_col_1_disp = (i,j)\n",
    "            if(color_2_fit > best_col_2_val):\n",
    "                best_col_2_val = color_2_fit\n",
    "                best_col_2_disp = (i,j)\n",
    "            # roll color1 and color2 images down 1 pixel\n",
    "            norm_channels[COLOR_1] = roll_image(norm_channels[COLOR_1], DOWN, 1)\n",
    "            norm_channels[COLOR_2] = roll_image(norm_channels[COLOR_2], DOWN, 1)\n",
    "        # roll color1 and color2 images up by 31 pixels\n",
    "        norm_channels[COLOR_1] = roll_image(norm_channels[COLOR_1], UP, 31)\n",
    "        norm_channels[COLOR_2] = roll_image(norm_channels[COLOR_2], UP, 31)\n",
    "        # roll color1 and color2 images to right by 1 pixel\n",
    "        norm_channels[COLOR_1] = roll_image(norm_channels[COLOR_1], RIGHT, 1)\n",
    "        norm_channels[COLOR_2] = roll_image(norm_channels[COLOR_2], RIGHT, 1)           \n",
    "    \n",
    "    # print displacement\n",
    "    print(\"best color 1 displacement: \" + str(best_b_disp))\n",
    "    print(\"best color 2 displacement: \" + str(best_r_disp))\n",
    "    \n",
    "    # roll original color 1 and color 2 images to optimal displacements\n",
    "    padded_channels[COLOR_1] = roll_image(padded_channels[COLOR_1], RIGHT, best_b_disp[0])\n",
    "    padded_channels[COLOR_1] = roll_image(padded_channels[COLOR_1], DOWN, best_b_disp[1])\n",
    "    padded_channels[COLOR_2] = roll_image(padded_channels[COLOR_2], RIGHT, best_r_disp[0])\n",
    "    padded_channels[COLOR_2] = roll_image(padded_channels[COLOR_2], DOWN, best_r_disp[1])\n",
    "    \n",
    "    # change stride to (r,c,3)\n",
    "    bgr_image = padded_channels.transpose(1,2,0)\n",
    "    # flip channels to rgb channels\n",
    "    rgb_image = np.flip(bgr_image, axis=-1)\n",
    "    \n",
    "    # Define a figure of size (8, 8)\n",
    "    fig=plt.figure(figsize=(8, 8))\n",
    "    plt.imshow(rgb_image)\n",
    "    plt.show()"
   ]
  },
  {
   "cell_type": "code",
   "execution_count": null,
   "metadata": {},
   "outputs": [],
   "source": []
  },
  {
   "cell_type": "code",
   "execution_count": null,
   "metadata": {},
   "outputs": [],
   "source": []
  }
 ],
 "metadata": {
  "kernelspec": {
   "display_name": "Python 3",
   "language": "python",
   "name": "python3"
  },
  "language_info": {
   "codemirror_mode": {
    "name": "ipython",
    "version": 3
   },
   "file_extension": ".py",
   "mimetype": "text/x-python",
   "name": "python",
   "nbconvert_exporter": "python",
   "pygments_lexer": "ipython3",
   "version": "3.8.5"
  }
 },
 "nbformat": 4,
 "nbformat_minor": 4
}
